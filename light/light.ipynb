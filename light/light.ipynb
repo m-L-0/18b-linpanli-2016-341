{
 "cells": [
  {
   "cell_type": "code",
   "execution_count": 25,
   "metadata": {},
   "outputs": [],
   "source": [
    "import numpy as np\n",
    "import pandas as pd\n",
    "import scipy.misc as scim\n",
    "import scipy.io as scio\n",
    "from sklearn import preprocessing\n",
    "from sklearn import metrics\n",
    "from sklearn.model_selection import train_test_split\n",
    "import matplotlib.pyplot as plt"
   ]
  },
  {
   "cell_type": "code",
   "execution_count": 30,
   "metadata": {},
   "outputs": [
    {
     "data": {
      "text/plain": [
       "{'__globals__': [],\n",
       " '__header__': b'MATLAB 5.0 MAT-file, Platform: PCWIN64, Created on: Thu Dec 06 16:57:14 2018',\n",
       " '__version__': '1.0',\n",
       " 'data_test_final': array([[3158, 4122, 4145, ..., 1022, 1019, 1010],\n",
       "        [3023, 3737, 4027, ..., 1019, 1008, 1004],\n",
       "        [2743, 4388, 4591, ..., 1056, 1030, 1025],\n",
       "        ...,\n",
       "        [2561, 3881, 4051, ..., 1018,  998, 1015],\n",
       "        [2745, 4391, 4335, ..., 1046, 1029, 1019],\n",
       "        [3009, 3986, 3967, ..., 1011, 1009, 1000]], dtype=uint16)}"
      ]
     },
     "execution_count": 30,
     "metadata": {},
     "output_type": "execute_result"
    }
   ],
   "source": [
    "data2 = scio.loadmat('E:/9个类别的数据集-train/data2_train.mat')\n",
    "data3 = scio.loadmat('E:/9个类别的数据集-train/data3_train.mat')\n",
    "data5 = scio.loadmat('E:/9个类别的数据集-train/data5_train.mat')\n",
    "data6 = scio.loadmat('E:/9个类别的数据集-train/data6_train.mat')\n",
    "data8 = scio.loadmat('E:/9个类别的数据集-train/data8_train.mat')\n",
    "data10 = scio.loadmat('E:/9个类别的数据集-train/data10_train.mat')\n",
    "data11 = scio.loadmat('E:/9个类别的数据集-train/data11_train.mat')\n",
    "data12 = scio.loadmat('E:/9个类别的数据集-train/data12_train.mat')\n",
    "data14 = scio.loadmat('E:/9个类别的数据集-train/data14_train.mat')\n",
    "data_test_final = scio.loadmat('E:/9个类别的数据集-train/data_test_final.mat')\n",
    "data_test_final"
   ]
  },
  {
   "cell_type": "code",
   "execution_count": 27,
   "metadata": {},
   "outputs": [],
   "source": [
    "data2_data = data2['data2_train']\n",
    "data3_data = data3['data3_train']\n",
    "data5_data = data5['data5_train']\n",
    "data6_data = data6['data6_train']\n",
    "data8_data = data8['data8_train']\n",
    "data10_data = data10['data10_train']\n",
    "data11_data = data11['data11_train']\n",
    "data12_data = data12['data12_train']\n",
    "data14_data = data14['data14_train']\n",
    "data_test_final = data_test_final['data_test_final']"
   ]
  },
  {
   "cell_type": "code",
   "execution_count": 28,
   "metadata": {},
   "outputs": [],
   "source": [
    "data2_data = pd.DataFrame(data=data2_data)\n",
    "data3_data = pd.DataFrame(data=data3_data)\n",
    "data5_data = pd.DataFrame(data=data5_data)\n",
    "data6_data = pd.DataFrame(data=data6_data)\n",
    "data8_data = pd.DataFrame(data=data8_data)\n",
    "data10_data = pd.DataFrame(data=data10_data)\n",
    "data11_data = pd.DataFrame(data=data11_data)\n",
    "data12_data = pd.DataFrame(data=data12_data)\n",
    "data14_data = pd.DataFrame(data=data14_data)\n",
    "train_data = pd.concat([data2_data, data3_data, data5_data, data6_data, data8_data, data10_data, data11_data, data12_data, data14_data])"
   ]
  },
  {
   "cell_type": "code",
   "execution_count": 9,
   "metadata": {},
   "outputs": [
    {
     "name": "stderr",
     "output_type": "stream",
     "text": [
      "D:\\anaconda\\lib\\site-packages\\sklearn\\utils\\validation.py:475: DataConversionWarning: Data with input dtype uint16 was converted to float64 by MinMaxScaler.\n",
      "  warnings.warn(msg, DataConversionWarning)\n"
     ]
    }
   ],
   "source": [
    "min_max_scaler = preprocessing.MinMaxScaler()\n",
    "train_data = min_max_scaler.fit_transform(train_data)\n",
    "data_test_final = min_max_scaler.fit_transform(data_test_final)"
   ]
  },
  {
   "cell_type": "code",
   "execution_count": 29,
   "metadata": {},
   "outputs": [
    {
     "data": {
      "text/plain": [
       "(2310, 200)"
      ]
     },
     "execution_count": 29,
     "metadata": {},
     "output_type": "execute_result"
    }
   ],
   "source": [
    "data_test_final.shape"
   ]
  },
  {
   "cell_type": "code",
   "execution_count": 10,
   "metadata": {},
   "outputs": [],
   "source": [
    "#给数据集加标签\n",
    "train_2 = [2 for i in range(len(data2_data))]\n",
    "train_3 = [3 for i in range(len(data3_data))]\n",
    "train_5 = [5 for i in range(len(data5_data))]\n",
    "train_6 = [6 for i in range(len(data6_data))]\n",
    "train_8 = [8 for i in range(len(data8_data))]\n",
    "train_10 = [10 for i in range(len(data10_data))]\n",
    "train_11 = [11 for i in range(len(data11_data))]\n",
    "train_12 = [12 for i in range(len(data12_data))]\n",
    "train_14 = [14 for i in range(len(data14_data))]"
   ]
  },
  {
   "cell_type": "code",
   "execution_count": 11,
   "metadata": {},
   "outputs": [],
   "source": [
    "#获得总的标签\n",
    "train_y = train_2 + train_3 + train_5 + train_6 + train_8 + train_10 + train_11 + train_12 + train_14"
   ]
  },
  {
   "cell_type": "code",
   "execution_count": 12,
   "metadata": {},
   "outputs": [],
   "source": [
    "#把测试集分为训练集和验证集\n",
    "train_X, test_X, y_train, y_test = train_test_split(train_data, train_y, test_size=0.25, shuffle = True)"
   ]
  },
  {
   "cell_type": "code",
   "execution_count": 14,
   "metadata": {},
   "outputs": [
    {
     "name": "stdout",
     "output_type": "stream",
     "text": [
      "0.5794338532640092\n"
     ]
    }
   ],
   "source": [
    "from sklearn import svm\n",
    "clf = svm.SVC()\n",
    "clf.fit(train_X, y_train)\n",
    "y_pred = clf.predict(test_X)\n",
    "score = metrics.accuracy_score(y_test, y_pred)\n",
    "print(score)"
   ]
  },
  {
   "cell_type": "code",
   "execution_count": null,
   "metadata": {},
   "outputs": [],
   "source": []
  },
  {
   "cell_type": "code",
   "execution_count": 106,
   "metadata": {},
   "outputs": [],
   "source": []
  },
  {
   "cell_type": "code",
   "execution_count": 15,
   "metadata": {},
   "outputs": [
    {
     "name": "stdout",
     "output_type": "stream",
     "text": [
      "0.5649913344887348\n"
     ]
    }
   ],
   "source": [
    "from sklearn import tree\n",
    "t_clf = tree.DecisionTreeClassifier(max_depth=3)\n",
    "t_clf.fit(train_X, y_train)\n",
    "y_pred1 = t_clf.predict(test_X)\n",
    "score1 = metrics.accuracy_score(y_test, y_pred1)\n",
    "print(score1)"
   ]
  },
  {
   "cell_type": "code",
   "execution_count": null,
   "metadata": {},
   "outputs": [],
   "source": []
  },
  {
   "cell_type": "code",
   "execution_count": 16,
   "metadata": {},
   "outputs": [],
   "source": [
    "from sklearn.ensemble import RandomForestClassifier"
   ]
  },
  {
   "cell_type": "code",
   "execution_count": 20,
   "metadata": {},
   "outputs": [
    {
     "name": "stdout",
     "output_type": "stream",
     "text": [
      "0.876372039283651\n"
     ]
    }
   ],
   "source": [
    "rlf = RandomForestClassifier(max_depth=100, random_state=8)\n",
    "rlf.fit(train_X, y_train)\n",
    "y_pred2 = rlf.predict(test_X)\n",
    "score2 = metrics.accuracy_score(y_test, y_pred2)\n",
    "print(score2)"
   ]
  },
  {
   "cell_type": "code",
   "execution_count": 21,
   "metadata": {},
   "outputs": [],
   "source": [
    "result  = rlf.predict(data_test_final)"
   ]
  },
  {
   "cell_type": "code",
   "execution_count": 22,
   "metadata": {},
   "outputs": [],
   "source": [
    "pd.DataFrame(data=result).to_csv('E:result.csv')"
   ]
  },
  {
   "cell_type": "code",
   "execution_count": null,
   "metadata": {},
   "outputs": [],
   "source": []
  },
  {
   "cell_type": "code",
   "execution_count": null,
   "metadata": {},
   "outputs": [],
   "source": []
  },
  {
   "cell_type": "code",
   "execution_count": null,
   "metadata": {},
   "outputs": [],
   "source": []
  },
  {
   "cell_type": "code",
   "execution_count": null,
   "metadata": {},
   "outputs": [],
   "source": []
  }
 ],
 "metadata": {
  "kernelspec": {
   "display_name": "Python 3",
   "language": "python",
   "name": "python3"
  },
  "language_info": {
   "codemirror_mode": {
    "name": "ipython",
    "version": 3
   },
   "file_extension": ".py",
   "mimetype": "text/x-python",
   "name": "python",
   "nbconvert_exporter": "python",
   "pygments_lexer": "ipython3",
   "version": "3.6.4"
  }
 },
 "nbformat": 4,
 "nbformat_minor": 2
}
