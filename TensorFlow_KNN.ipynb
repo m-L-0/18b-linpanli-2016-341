{
 "cells": [
  {
   "cell_type": "code",
   "execution_count": 1,
   "metadata": {},
   "outputs": [
    {
     "name": "stderr",
     "output_type": "stream",
     "text": [
      "D:\\anaconda\\lib\\site-packages\\h5py\\__init__.py:36: FutureWarning: Conversion of the second argument of issubdtype from `float` to `np.floating` is deprecated. In future, it will be treated as `np.float64 == np.dtype(float).type`.\n",
      "  from ._conv import register_converters as _register_converters\n"
     ]
    }
   ],
   "source": [
    "import numpy as np\n",
    "import pandas as pd\n",
    "import tensorflow as tf\n",
    "from sklearn import datasets"
   ]
  },
  {
   "cell_type": "code",
   "execution_count": 2,
   "metadata": {},
   "outputs": [],
   "source": [
    "#读取数据集\n",
    "iris = datasets.load_iris()\n",
    "iris_data = iris.data\n",
    "iris_target = iris.target"
   ]
  },
  {
   "cell_type": "code",
   "execution_count": 4,
   "metadata": {},
   "outputs": [],
   "source": [
    "#获取测试集和验证集\n",
    "min_max = (iris_data - iris_data.min(0)) / iris_data.ptp(0)  #\n",
    "train_X_index = np.random.choice(len(iris_data), round(len(iris_data) * 0.8), replace=False)\n",
    "test_X_index = np.array(list(set(range(len(iris_data))) - set(train_X_index)))\n",
    "\n",
    "train_X = iris_data[train_X_index]\n",
    "train_y = iris_target[train_X_index].reshape(-1, 1)\n",
    "\n",
    "test_X = iris_data[test_X_index]\n",
    "test_y = iris_target[test_X_index].reshape(-1, 1)"
   ]
  },
  {
   "cell_type": "code",
   "execution_count": 5,
   "metadata": {},
   "outputs": [],
   "source": [
    "#设计模型\n",
    "X_train = tf.placeholder(tf.float32, shape=[None, 4])\n",
    "\n",
    "X_test = tf.placeholder(tf.float32, shape=[4])"
   ]
  },
  {
   "cell_type": "code",
   "execution_count": 6,
   "metadata": {},
   "outputs": [],
   "source": [
    "#L1距离\n",
    "distance = tf.reduce_sum(tf.abs(tf.add(X_train,tf.negative(X_test))),reduction_indices=1)"
   ]
  },
  {
   "cell_type": "code",
   "execution_count": 24,
   "metadata": {},
   "outputs": [],
   "source": [
    "#最小距离下标\n",
    "pred = tf.argmin(distance, 0)"
   ]
  },
  {
   "cell_type": "code",
   "execution_count": 25,
   "metadata": {},
   "outputs": [],
   "source": [
    "#正确率\n",
    "accuracy = 0"
   ]
  },
  {
   "cell_type": "code",
   "execution_count": 45,
   "metadata": {},
   "outputs": [
    {
     "name": "stdout",
     "output_type": "stream",
     "text": [
      "Test 0 Prediction: [2] True Class: [2]\n",
      "Test 1 Prediction: [0] True Class: [0]\n",
      "Test 2 Prediction: [1] True Class: [2]\n",
      "Test 3 Prediction: [2] True Class: [2]\n",
      "Test 4 Prediction: [0] True Class: [0]\n",
      "Test 5 Prediction: [2] True Class: [2]\n",
      "Test 6 Prediction: [0] True Class: [0]\n",
      "Test 7 Prediction: [0] True Class: [0]\n",
      "Test 8 Prediction: [2] True Class: [2]\n",
      "Test 9 Prediction: [0] True Class: [0]\n",
      "Test 10 Prediction: [0] True Class: [0]\n",
      "Test 11 Prediction: [0] True Class: [0]\n",
      "Test 12 Prediction: [1] True Class: [1]\n",
      "Test 13 Prediction: [1] True Class: [1]\n",
      "Test 14 Prediction: [1] True Class: [1]\n",
      "Test 15 Prediction: [1] True Class: [1]\n",
      "Test 16 Prediction: [1] True Class: [1]\n",
      "Test 17 Prediction: [1] True Class: [1]\n",
      "Test 18 Prediction: [1] True Class: [1]\n",
      "Test 19 Prediction: [1] True Class: [1]\n",
      "Test 20 Prediction: [1] True Class: [1]\n",
      "Test 21 Prediction: [1] True Class: [1]\n",
      "Test 22 Prediction: [1] True Class: [1]\n",
      "Test 23 Prediction: [1] True Class: [1]\n",
      "Test 24 Prediction: [2] True Class: [2]\n",
      "Test 25 Prediction: [2] True Class: [2]\n",
      "Test 26 Prediction: [1] True Class: [2]\n",
      "Test 27 Prediction: [2] True Class: [2]\n",
      "Test 28 Prediction: [2] True Class: [2]\n",
      "Test 29 Prediction: [2] True Class: [2]\n"
     ]
    }
   ],
   "source": [
    "with tf.Session() as sess:\n",
    "   #初始化 \n",
    "    sess.run(tf.global_variables_initializer())\n",
    "    for i in range(len(test_X)):\n",
    "        #预测模型\n",
    "        nn_index = sess.run(pred, feed_dict={X_train:train_X, X_test:test_X[i]})\n",
    "        if train_y[nn_index] == test_y[i]:\n",
    "            accuracy += 1./len(test_X)"
   ]
  },
  {
   "cell_type": "code",
   "execution_count": 51,
   "metadata": {},
   "outputs": [
    {
     "name": "stdout",
     "output_type": "stream",
     "text": [
      "5.933333333333322\n"
     ]
    }
   ],
   "source": [
    "print(accuracy)"
   ]
  },
  {
   "cell_type": "code",
   "execution_count": null,
   "metadata": {},
   "outputs": [],
   "source": []
  }
 ],
 "metadata": {
  "kernelspec": {
   "display_name": "Python 3",
   "language": "python",
   "name": "python3"
  },
  "language_info": {
   "codemirror_mode": {
    "name": "ipython",
    "version": 3
   },
   "file_extension": ".py",
   "mimetype": "text/x-python",
   "name": "python",
   "nbconvert_exporter": "python",
   "pygments_lexer": "ipython3",
   "version": "3.6.4"
  }
 },
 "nbformat": 4,
 "nbformat_minor": 2
}
